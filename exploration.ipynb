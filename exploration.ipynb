{
 "cells": [
  {
   "cell_type": "code",
   "execution_count": 1,
   "metadata": {},
   "outputs": [],
   "source": [
    "import pandas as pd\n",
    "import numpy as np"
   ]
  },
  {
   "cell_type": "code",
   "execution_count": 2,
   "metadata": {},
   "outputs": [],
   "source": [
    "df = pd.read_csv('./dataset.csv')"
   ]
  },
  {
   "cell_type": "code",
   "execution_count": 3,
   "metadata": {},
   "outputs": [],
   "source": [
    "df[\"CRASH_DATE\"] = pd.to_datetime(df[\"CRASH_DATE\"], format=\"%m/%d/%Y %I:%M:%S %p\", errors=\"coerce\")"
   ]
  },
  {
   "cell_type": "code",
   "execution_count": 4,
   "metadata": {},
   "outputs": [],
   "source": [
    "columns_to_keep = [\n",
    "    'CRASH_RECORD_ID', 'CRASH_DATE', 'CRASH_HOUR', 'CRASH_DAY_OF_WEEK', 'CRASH_MONTH',\n",
    "    'WEATHER_CONDITION', 'ROADWAY_SURFACE_COND',\n",
    "    'POSTED_SPEED_LIMIT', 'LANE_CNT'\n",
    "]\n",
    "df = df[columns_to_keep]"
   ]
  },
  {
   "cell_type": "code",
   "execution_count": 5,
   "metadata": {},
   "outputs": [
    {
     "data": {
      "text/plain": [
       "WEATHER_CONDITION\n",
       "CLEAR                       588571\n",
       "RAIN                         64056\n",
       "UNKNOWN                      39154\n",
       "SNOW                         26438\n",
       "CLOUDY/OVERCAST              21994\n",
       "OTHER                         2338\n",
       "FREEZING RAIN/DRIZZLE         1368\n",
       "FOG/SMOKE/HAZE                1100\n",
       "SLEET/HAIL                     934\n",
       "BLOWING SNOW                   392\n",
       "SEVERE CROSS WIND GATE         147\n",
       "BLOWING SAND, SOIL, DIRT         6\n",
       "Name: count, dtype: int64"
      ]
     },
     "execution_count": 5,
     "metadata": {},
     "output_type": "execute_result"
    }
   ],
   "source": [
    "df[\"WEATHER_CONDITION\"].value_counts()"
   ]
  },
  {
   "cell_type": "code",
   "execution_count": 6,
   "metadata": {},
   "outputs": [],
   "source": [
    "weather_mapping = {\n",
    "    \"CLEAR\": \"CLEAR\",\n",
    "    \"RAIN\": \"RAIN\",\n",
    "    \"FREEZING RAIN/DRIZZLE\": \"RAIN\",\n",
    "    \"SLEET/HAIL\": \"RAIN\",\n",
    "    \"SNOW\": \"SNOW\",\n",
    "    \"BLOWING SNOW\": \"SNOW\",\n",
    "    \"FOG/SMOKE/HAZE\": \"CLEAR\",  \n",
    "    \"CLOUDY/OVERCAST\": \"CLEAR\",\n",
    "    \"SEVERE CROSS WIND GATE\": \"CLEAR\",\n",
    "    \"BLOWING SAND, SOIL, DIRT\": \"OTHER\",\n",
    "    \"UNKNOWN\": \"OTHER\",\n",
    "    \"OTHER\": \"OTHER\"\n",
    "}\n",
    "\n",
    "df[\"WEATHER_CONDITION\"] = df[\"WEATHER_CONDITION\"].map(weather_mapping)"
   ]
  },
  {
   "cell_type": "code",
   "execution_count": 7,
   "metadata": {},
   "outputs": [
    {
     "data": {
      "text/plain": [
       "ROADWAY_SURFACE_COND\n",
       "DRY                554470\n",
       "WET                 98336\n",
       "UNKNOWN             59857\n",
       "SNOW OR SLUSH       26458\n",
       "ICE                  5214\n",
       "OTHER                1877\n",
       "SAND, MUD, DIRT       286\n",
       "Name: count, dtype: int64"
      ]
     },
     "execution_count": 7,
     "metadata": {},
     "output_type": "execute_result"
    }
   ],
   "source": [
    "df[\"ROADWAY_SURFACE_COND\"].value_counts()"
   ]
  },
  {
   "cell_type": "code",
   "execution_count": 8,
   "metadata": {},
   "outputs": [],
   "source": [
    "road_condition_mapping = {\n",
    "    \"DRY\": \"DRY\",\n",
    "    \"WET\": \"WET\",\n",
    "    \"UNKNOWN\": \"UNKNOWN\",\n",
    "    \"SNOW OR SLUSH\": \"SNOW\",\n",
    "    \"ICE\": \"ICE\",\n",
    "    \"OTHER\": \"OTHER\",\n",
    "    \"SAND, MUD, DIRT\": \"OTHER\"\n",
    "}\n",
    "df[\"ROADWAY_SURFACE_COND\"] = df[\"ROADWAY_SURFACE_COND\"].map(road_condition_mapping)"
   ]
  },
  {
   "cell_type": "code",
   "execution_count": 9,
   "metadata": {},
   "outputs": [
    {
     "data": {
      "text/plain": [
       "ROADWAY_SURFACE_COND\n",
       "DRY        554470\n",
       "WET         98336\n",
       "UNKNOWN     59857\n",
       "SNOW        26458\n",
       "ICE          5214\n",
       "OTHER        2163\n",
       "Name: count, dtype: int64"
      ]
     },
     "execution_count": 9,
     "metadata": {},
     "output_type": "execute_result"
    }
   ],
   "source": [
    "df[\"ROADWAY_SURFACE_COND\"].value_counts()"
   ]
  },
  {
   "cell_type": "code",
   "execution_count": 10,
   "metadata": {},
   "outputs": [],
   "source": [
    "# Proportionally distribute UNKNOWN road condition\n",
    "known_counts = df[df[\"ROADWAY_SURFACE_COND\"] != \"UNKNOWN\"][\"ROADWAY_SURFACE_COND\"].value_counts(normalize=True)\n",
    "\n",
    "unknown_mask = df[\"ROADWAY_SURFACE_COND\"] == \"UNKNOWN\"\n",
    "df.loc[unknown_mask, \"ROADWAY_SURFACE_COND\"] = np.random.choice(known_counts.index, size=unknown_mask.sum(), p=known_counts.values)"
   ]
  },
  {
   "cell_type": "code",
   "execution_count": 11,
   "metadata": {},
   "outputs": [
    {
     "data": {
      "text/plain": [
       "ROADWAY_SURFACE_COND\n",
       "DRY      602685\n",
       "WET      107028\n",
       "SNOW      28784\n",
       "ICE        5664\n",
       "OTHER      2337\n",
       "Name: count, dtype: int64"
      ]
     },
     "execution_count": 11,
     "metadata": {},
     "output_type": "execute_result"
    }
   ],
   "source": [
    "df[\"ROADWAY_SURFACE_COND\"].value_counts()"
   ]
  },
  {
   "cell_type": "code",
   "execution_count": 12,
   "metadata": {},
   "outputs": [
    {
     "name": "stdout",
     "output_type": "stream",
     "text": [
      "CRASH_YEAR\n",
      "2013         2\n",
      "2014         6\n",
      "2015      9828\n",
      "2016     44297\n",
      "2017     83786\n",
      "2018    118950\n",
      "2019    117762\n",
      "2020     92092\n",
      "2021    108762\n",
      "2022    108396\n",
      "2023     62617\n",
      "Name: count, dtype: int64\n"
     ]
    }
   ],
   "source": [
    "# gathering info on the years in the dataset\n",
    "df['CRASH_YEAR'] = df['CRASH_DATE'].dt.year\n",
    "year_counts = df['CRASH_YEAR'].value_counts().sort_index()\n",
    "print(year_counts)"
   ]
  },
  {
   "cell_type": "code",
   "execution_count": null,
   "metadata": {},
   "outputs": [],
   "source": [
    "valid_years = year_counts[year_counts >= 65000].index\n",
    "df = df[df['CRASH_YEAR'].isin(valid_years)]\n",
    "\n",
    "# 65000 was chosen as a simple way to select the valid years. since all valid years were over this amount anyways."
   ]
  },
  {
   "cell_type": "code",
   "execution_count": 14,
   "metadata": {},
   "outputs": [],
   "source": [
    "# Dropping the timestamp from the date for better aggregation\n",
    "df['CRASH_DATE'] = df['CRASH_DATE'].dt.date"
   ]
  },
  {
   "cell_type": "code",
   "execution_count": 15,
   "metadata": {},
   "outputs": [
    {
     "name": "stdout",
     "output_type": "stream",
     "text": [
      "CRASH_RECORD_ID              0\n",
      "CRASH_DATE                   0\n",
      "CRASH_HOUR                   0\n",
      "CRASH_DAY_OF_WEEK            0\n",
      "CRASH_MONTH                  0\n",
      "WEATHER_CONDITION            0\n",
      "ROADWAY_SURFACE_COND         0\n",
      "POSTED_SPEED_LIMIT           0\n",
      "LANE_CNT                476053\n",
      "CRASH_YEAR                   0\n",
      "dtype: int64\n"
     ]
    }
   ],
   "source": [
    "# check for any NaN\n",
    "print(df.isna().sum())"
   ]
  },
  {
   "cell_type": "code",
   "execution_count": 16,
   "metadata": {},
   "outputs": [
    {
     "name": "stdout",
     "output_type": "stream",
     "text": [
      "LANE_CNT\n",
      "2.0          71371\n",
      "4.0          38225\n",
      "1.0          25071\n",
      "3.0           6623\n",
      "0.0           5603\n",
      "6.0           3268\n",
      "5.0           1548\n",
      "8.0           1475\n",
      "7.0            148\n",
      "10.0           128\n",
      "9.0             62\n",
      "99.0            57\n",
      "11.0            29\n",
      "12.0            25\n",
      "22.0            10\n",
      "20.0             9\n",
      "16.0             6\n",
      "15.0             5\n",
      "14.0             4\n",
      "30.0             4\n",
      "60.0             3\n",
      "40.0             2\n",
      "25.0             2\n",
      "21.0             2\n",
      "41.0             1\n",
      "433634.0         1\n",
      "28.0             1\n",
      "13.0             1\n",
      "1191625.0        1\n",
      "400.0            1\n",
      "19.0             1\n",
      "902.0            1\n",
      "100.0            1\n",
      "17.0             1\n",
      "299679.0         1\n",
      "45.0             1\n",
      "218474.0         1\n",
      "24.0             1\n",
      "80.0             1\n",
      "Name: count, dtype: int64\n"
     ]
    }
   ],
   "source": [
    "print(df[\"LANE_CNT\"].value_counts())"
   ]
  },
  {
   "cell_type": "code",
   "execution_count": 17,
   "metadata": {},
   "outputs": [],
   "source": [
    "daily_crashes = df.groupby('CRASH_DATE').size().reset_index(name='CRASHES_PER_DAY')"
   ]
  },
  {
   "cell_type": "code",
   "execution_count": 27,
   "metadata": {},
   "outputs": [
    {
     "data": {
      "text/html": [
       "<div>\n",
       "<style scoped>\n",
       "    .dataframe tbody tr th:only-of-type {\n",
       "        vertical-align: middle;\n",
       "    }\n",
       "\n",
       "    .dataframe tbody tr th {\n",
       "        vertical-align: top;\n",
       "    }\n",
       "\n",
       "    .dataframe thead th {\n",
       "        text-align: right;\n",
       "    }\n",
       "</style>\n",
       "<table border=\"1\" class=\"dataframe\">\n",
       "  <thead>\n",
       "    <tr style=\"text-align: right;\">\n",
       "      <th></th>\n",
       "      <th>CRASH_DATE</th>\n",
       "      <th>CRASHES_PER_DAY</th>\n",
       "    </tr>\n",
       "  </thead>\n",
       "  <tbody>\n",
       "    <tr>\n",
       "      <th>0</th>\n",
       "      <td>2017-01-01</td>\n",
       "      <td>138</td>\n",
       "    </tr>\n",
       "    <tr>\n",
       "      <th>1</th>\n",
       "      <td>2017-01-02</td>\n",
       "      <td>113</td>\n",
       "    </tr>\n",
       "    <tr>\n",
       "      <th>2</th>\n",
       "      <td>2017-01-03</td>\n",
       "      <td>139</td>\n",
       "    </tr>\n",
       "    <tr>\n",
       "      <th>3</th>\n",
       "      <td>2017-01-04</td>\n",
       "      <td>103</td>\n",
       "    </tr>\n",
       "    <tr>\n",
       "      <th>4</th>\n",
       "      <td>2017-01-05</td>\n",
       "      <td>126</td>\n",
       "    </tr>\n",
       "    <tr>\n",
       "      <th>...</th>\n",
       "      <td>...</td>\n",
       "      <td>...</td>\n",
       "    </tr>\n",
       "    <tr>\n",
       "      <th>2186</th>\n",
       "      <td>2022-12-27</td>\n",
       "      <td>289</td>\n",
       "    </tr>\n",
       "    <tr>\n",
       "      <th>2187</th>\n",
       "      <td>2022-12-28</td>\n",
       "      <td>217</td>\n",
       "    </tr>\n",
       "    <tr>\n",
       "      <th>2188</th>\n",
       "      <td>2022-12-29</td>\n",
       "      <td>273</td>\n",
       "    </tr>\n",
       "    <tr>\n",
       "      <th>2189</th>\n",
       "      <td>2022-12-30</td>\n",
       "      <td>270</td>\n",
       "    </tr>\n",
       "    <tr>\n",
       "      <th>2190</th>\n",
       "      <td>2022-12-31</td>\n",
       "      <td>278</td>\n",
       "    </tr>\n",
       "  </tbody>\n",
       "</table>\n",
       "<p>2191 rows × 2 columns</p>\n",
       "</div>"
      ],
      "text/plain": [
       "      CRASH_DATE  CRASHES_PER_DAY\n",
       "0     2017-01-01              138\n",
       "1     2017-01-02              113\n",
       "2     2017-01-03              139\n",
       "3     2017-01-04              103\n",
       "4     2017-01-05              126\n",
       "...          ...              ...\n",
       "2186  2022-12-27              289\n",
       "2187  2022-12-28              217\n",
       "2188  2022-12-29              273\n",
       "2189  2022-12-30              270\n",
       "2190  2022-12-31              278\n",
       "\n",
       "[2191 rows x 2 columns]"
      ]
     },
     "execution_count": 27,
     "metadata": {},
     "output_type": "execute_result"
    }
   ],
   "source": [
    "daily_crashes"
   ]
  },
  {
   "cell_type": "code",
   "execution_count": 18,
   "metadata": {},
   "outputs": [],
   "source": [
    "# Coercing these columns to be numeric type, then filling NaNs with the mean values.\n",
    "df['POSTED_SPEED_LIMIT'] = pd.to_numeric(df['POSTED_SPEED_LIMIT'], errors='coerce')\n",
    "\n",
    "df.fillna({'POSTED_SPEED_LIMIT': df['POSTED_SPEED_LIMIT'].mean()}, inplace=True)"
   ]
  },
  {
   "cell_type": "code",
   "execution_count": 19,
   "metadata": {},
   "outputs": [],
   "source": [
    "\n",
    "# Set everything over 10 to be NaN so it's not included in mean caluclation\n",
    "df.loc[df['LANE_CNT'] > 10, 'LANE_CNT'] = pd.NA\n",
    "# calculate the mean\n",
    "lane_cnt_mean = df['LANE_CNT'].mean()\n",
    "# Fill NaN with the mean\n",
    "df.fillna({'LANE_CNT': lane_cnt_mean}, inplace=True)"
   ]
  },
  {
   "cell_type": "code",
   "execution_count": 20,
   "metadata": {},
   "outputs": [
    {
     "name": "stdout",
     "output_type": "stream",
     "text": [
      "LANE_CNT\n",
      "2.492177     476226\n",
      "2.000000      71371\n",
      "4.000000      38225\n",
      "1.000000      25071\n",
      "3.000000       6623\n",
      "0.000000       5603\n",
      "6.000000       3268\n",
      "5.000000       1548\n",
      "8.000000       1475\n",
      "7.000000        148\n",
      "10.000000       128\n",
      "9.000000         62\n",
      "Name: count, dtype: int64\n"
     ]
    }
   ],
   "source": [
    "print(df[\"LANE_CNT\"].value_counts())"
   ]
  },
  {
   "cell_type": "markdown",
   "metadata": {},
   "source": [
    " Some Speed Limits are unrealistic. We need to clean that data.  \n",
    "Set the valid range between 5-75 since those are the common speed limits seen across the US.\n",
    "Other unrealistic values in the dataset include speeds like 9 and 44. These are assumed to be typos, so we can fix those by rounding to the nearest 5. Since all speed limits are multiples of 5; 9 and 44 would become 10 and 45 respectively."
   ]
  },
  {
   "cell_type": "code",
   "execution_count": 21,
   "metadata": {},
   "outputs": [
    {
     "name": "stdout",
     "output_type": "stream",
     "text": [
      "[30 25 20 35 15 10 40 45  5  0 55 50  9 65 24  3  6 34 11 39 60 23 22 14\n",
      "  1 12 32  2 33  7 26  8 49 36 70 29 63 16 62 44  4 31 38]\n"
     ]
    }
   ],
   "source": [
    "print(df['POSTED_SPEED_LIMIT'].unique())"
   ]
  },
  {
   "cell_type": "code",
   "execution_count": 22,
   "metadata": {},
   "outputs": [
    {
     "name": "stdout",
     "output_type": "stream",
     "text": [
      "[30 25 20 35 15 10 40 45  5 55 50 65 60 70]\n"
     ]
    }
   ],
   "source": [
    "valid_speed_limits = range(5, 75)\n",
    "def round_to_nearest_5(x):\n",
    "    return 5 * round(x/5)\n",
    "\n",
    "df['POSTED_SPEED_LIMIT'] = pd.to_numeric(df['POSTED_SPEED_LIMIT'], errors='coerce')\n",
    "median_speed_limit = df.loc[df['POSTED_SPEED_LIMIT'].between(5, 75), 'POSTED_SPEED_LIMIT'].median()\n",
    "df.loc[~df['POSTED_SPEED_LIMIT'].between(5, 75), 'POSTED_SPEED_LIMIT'] = median_speed_limit\n",
    "df['POSTED_SPEED_LIMIT'] = df['POSTED_SPEED_LIMIT'].apply(round_to_nearest_5)\n",
    "print(df['POSTED_SPEED_LIMIT'].unique())\n"
   ]
  },
  {
   "cell_type": "code",
   "execution_count": 23,
   "metadata": {},
   "outputs": [],
   "source": [
    "# Count crashes per day\n",
    "daily_crash_counts = df.groupby(\"CRASH_DATE\").size().reset_index(name=\"CRASH_COUNT\")\n",
    "\n",
    "# Merge crash counts back to each record\n",
    "df = df.merge(daily_crash_counts, on=\"CRASH_DATE\", how=\"left\")"
   ]
  },
  {
   "cell_type": "code",
   "execution_count": 24,
   "metadata": {},
   "outputs": [
    {
     "name": "stdout",
     "output_type": "stream",
     "text": [
      "CRASH_RECORD_ID         0\n",
      "CRASH_DATE              0\n",
      "CRASH_HOUR              0\n",
      "CRASH_DAY_OF_WEEK       0\n",
      "CRASH_MONTH             0\n",
      "WEATHER_CONDITION       0\n",
      "ROADWAY_SURFACE_COND    0\n",
      "POSTED_SPEED_LIMIT      0\n",
      "LANE_CNT                0\n",
      "CRASH_YEAR              0\n",
      "CRASH_COUNT             0\n",
      "dtype: int64\n"
     ]
    }
   ],
   "source": [
    "# Verify no NaN left in dataset\n",
    "print(df.isna().sum())"
   ]
  },
  {
   "cell_type": "code",
   "execution_count": 25,
   "metadata": {},
   "outputs": [],
   "source": [
    "# export the final cleaned data to be used for prediction.\n",
    "final_dataset = df\n",
    "final_dataset.to_csv(\"./cleaned_dataset.csv\", index=False)"
   ]
  }
 ],
 "metadata": {
  "kernelspec": {
   "display_name": "venv",
   "language": "python",
   "name": "python3"
  },
  "language_info": {
   "codemirror_mode": {
    "name": "ipython",
    "version": 3
   },
   "file_extension": ".py",
   "mimetype": "text/x-python",
   "name": "python",
   "nbconvert_exporter": "python",
   "pygments_lexer": "ipython3",
   "version": "3.12.2"
  }
 },
 "nbformat": 4,
 "nbformat_minor": 2
}
